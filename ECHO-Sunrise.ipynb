{
 "cells": [
  {
   "cell_type": "markdown",
   "metadata": {},
   "source": [
    "|  Sunrise logo | ![EEW logo](https://github.com/edgi-govdata-archiving/EEW-Image-Assets/blob/master/Jupyter%20instructions/eew.jpg?raw=true) | ![EDGI logo](https://github.com/edgi-govdata-archiving/EEW-Image-Assets/blob/master/Jupyter%20instructions/edgi.png?raw=true) |\n",
    "|---|---|---|\n",
    "\n",
    "#### This notebook is licensed under GPL 3.0. Please visit [our Github repo](https://github.com/edgi-govdata-archiving/ECHO-COVID19) for more information.\n",
    "#### The notebook was collaboratively authored by the Environmental Data & Governance Initiative (EDGI) following our [authorship protocol](https://docs.google.com/document/d/1CtDN5ZZ4Zv70fHiBTmWkDJ9mswEipX6eCYrwicP66Xw/). It was developed by EDGI for Sunrise Boston to assist them in analyzing data on greenhouse gas emissions and other pollutants in Massachusetts. For more information about our project, visit https://www.environmentalenforcementwatch.org/\n",
    "#### The data you will interact with here is a copy of several tables from [EPA's Enforcement and Compliance History database](https://echo.epa.gov/tools/data-downloads#downloads). Our copy is stored on a server at Stony Brook University and is updated every Sunday (latest refresh: July 12, 2020)"
   ]
  },
  {
   "cell_type": "markdown",
   "metadata": {},
   "source": [
    "## How to Run this Notebook\n",
    "* A \"cell\" in a Jupyter notebook is a block of code performing a set of actions making available or using specific data.  The notebook works by running one cell after another, as the notebook user selects offered options.\n",
    "* If you click on a gray **code** cell, a little “play button” arrow appears on the left. If you click the play button, it will run the code in that cell (“**running** a cell”). The button will animate. When the animation stops, the cell has finished running.\n",
    "![Where to click to run the cell](https://github.com/edgi-govdata-archiving/EEW-Image-Assets/blob/master/Jupyter%20instructions/pressplay.JPG?raw=true)\n",
    "* You may get a warning that the notebook was not authored by Google. We know, we authored them! It’s okay. Click “Run Anyway” to continue. \n",
    "![Error Message](https://github.com/edgi-govdata-archiving/EEW-Image-Assets/blob/master/Jupyter%20instructions/warning-message.JPG?raw=true)\n",
    "* **It is important to run cells in order because they depend on each other.**\n",
    "* Run all of the cells in a Notebook to make a complete report. Please feel free to look at and **learn about each result as you create it**!\n",
    "* As you run this notebook, we will automatically export spreadsheet versions of the data. Click on the 'Files' tab in the menu on the left-hand side of the notebook (it looks like a folder). You may have to hit 'Refresh' if you don't see your file. Then, you can click on the ... next to your file and choose \"Download\". The CSV spreadsheet will download to wherever your browser usually saves files (e.g. Downloads folder)"
   ]
  },
  {
   "cell_type": "markdown",
   "metadata": {},
   "source": [
    "# **Let's begin!** \n",
    "These first few cells give us access to some external Python code we will need. Hover over the \"[ ]\" on the top left corner of the cell below and you should see a \"play\" button appear. Click on it to run the cell then move to the next one.\n",
    "In Google Colab this code from Github will be installed in the Files section in the left margin.\n",
    "### 0.  Bring in extra code"
   ]
  },
  {
   "cell_type": "code",
   "execution_count": null,
   "metadata": {},
   "outputs": [],
   "source": [
    "# Code stored in Github projects\n",
    "!git clone -b program-specific-info --single-branch https://github.com/ericnost/ECHO_modules.git &>/dev/null;\n",
    "!git clone -b sunrise --single-branch https://github.com/edgi-govdata-archiving/ECHO-Geo.git &>/dev/null; # Do Sunrise-specific branch with fewer geos\n",
    "!git clone https://github.com/edgi-govdata-archiving/ECHO-Sunrise.git &>/dev/null; # This has the utilities file for mapping and make_data_sets.py "
   ]
  },
  {
   "cell_type": "code",
   "execution_count": null,
   "metadata": {},
   "outputs": [],
   "source": [
    "# Import main code libraries\n",
    "%run ECHO_modules/DataSet.py\n",
    "%run ECHO-Sunrise/utilities.py\n",
    "import pandas as pd\n",
    "!pip install geopandas &>/dev/null;\n",
    "import geopandas\n",
    "import matplotlib.pyplot as plt\n",
    "import seaborn as sns\n",
    "%matplotlib inline\n",
    "import requests\n",
    "import csv\n",
    "import datetime\n",
    "import ipywidgets as widgets  \n",
    "from IPython.core.display import display, HTML"
   ]
  },
  {
   "cell_type": "markdown",
   "metadata": {},
   "source": [
    "### 1. Choose a Congressional District\n",
    "In the following cell, load a map of MA's Congressional Districts. Mouse over each to see its district number, then choose which one you want to focus on from the dropdown menu created by the second cell."
   ]
  },
  {
   "cell_type": "code",
   "execution_count": null,
   "metadata": {},
   "outputs": [],
   "source": [
    "options=['Congressional District 4', 'Congressional District 7', 'Congressional District 8',]\n",
    "\n",
    "# Read in and map geojson for the selected geography\n",
    "cd_data = geopandas.read_file(\"ECHO-Geo/ma_congressional_districts.geojson\")\n",
    "\n",
    "m = folium.Map()\n",
    "\n",
    "def style_function(feature):\n",
    "    return {\n",
    "        'fillOpacity': .5 if feature['properties']['District'] in options else .25,\n",
    "        'weight': 1.5 if feature['properties']['District'] in options else .5,\n",
    "        'color': 'black',\n",
    "        'fillColor': 'blue' if feature['properties']['District'] in options else \"grey\"\n",
    "    }\n",
    "\n",
    "cd = folium.GeoJson(\n",
    "    cd_data,\n",
    "    name = \"Congressional Districts\",\n",
    "    style_function=style_function\n",
    ").add_to(m)\n",
    "folium.GeoJsonTooltip(fields=[\"District\"]).add_to(cd)\n",
    "\n",
    "bounds = m.get_bounds()\n",
    "m.fit_bounds(bounds)\n",
    "\n",
    "m"
   ]
  },
  {
   "cell_type": "markdown",
   "metadata": {},
   "source": [
    "Create the dropdown list of congressional district options."
   ]
  },
  {
   "cell_type": "code",
   "execution_count": null,
   "metadata": {},
   "outputs": [],
   "source": [
    "select_region_widget = widgets.Dropdown(\n",
    "    options=options,\n",
    "    value='Congressional District 7',\n",
    "    description='Select a District:',\n",
    "    disabled=False\n",
    ")\n",
    "\n",
    "display( select_region_widget )"
   ]
  },
  {
   "cell_type": "markdown",
   "metadata": {},
   "source": [
    "### 3. What kinds of facilities does EPA track in this district and across MA?\n",
    "This may take just a little bit of time to load - there are thousands!"
   ]
  },
  {
   "cell_type": "code",
   "execution_count": null,
   "metadata": {},
   "outputs": [],
   "source": [
    "# Get the EPA data from the Stonybrook University database\n",
    "echo_data_sql = \"select * from ECHO_EXPORTER where FAC_STATE = 'MA' and FAC_ACTIVE_FLAG='Y' \" \n",
    "echo_data = get_data( echo_data_sql, 'REGISTRY_ID' )\n",
    "num_facilities = echo_data.shape[0]\n",
    "\n",
    "# Get selected district\n",
    "geo_json_data = cd_data[(cd_data[\"District\"] == select_region_widget.value)] #where ids match\n",
    "\n",
    "# Join the facilities and the chosen district\n",
    "this_district_data = echo_data.loc[(echo_data[\"FAC_DERIVED_CD113\"]==float(select_region_widget.value.strip(\"Congressional District\")))]\n",
    "\n",
    "# Summarize \n",
    "display(HTML(\"<h3>There are %s facilities in Massachussets currently tracked in the ECHO database.\" %(num_facilities)))\n",
    "display(HTML(\"<h3>There are \"+ str(this_district_data.shape[0]) + \" facilities in this district.\"))\n",
    "display(HTML(\"<h3>There are \"+ str(this_district_data.loc[this_district_data[\"RCRA_FLAG\"] == \"Y\"].shape[0]) + \" facilities regulated under RCRA in this district.</h3>\"))\n",
    "display(HTML(\"<h3>There are \"+ str(this_district_data.loc[this_district_data[\"NPDES_FLAG\"] == \"Y\"].shape[0]) + \" facilities regulated under CWA in this district.</h3>\"))\n",
    "display(HTML(\"<h3>There are \"+ str(this_district_data.loc[this_district_data[\"AIR_FLAG\"] == \"Y\"].shape[0]) + \" facilities regulated under CAA in this district.</h3>\"))\n",
    "display(HTML(\"<h3>There are \"+ str(this_district_data.loc[this_district_data[\"GHG_FLAG\"] == \"Y\"].shape[0]) + \" facilities reporting GHGs in this district.</h3>\"))"
   ]
  },
  {
   "cell_type": "markdown",
   "metadata": {},
   "source": [
    "### 4.  Run this next cell to create to choose how you want to *zoom in* on the data: what program you want to focus on (Air, Water, Waste, or GHG)?\n",
    "Running the code below will show you a dropdown you can use to make a selection. **Inspections** or **evaluations** are usually the first phase in the enforcement pipeline, and are how violations are typically (though not always) discovered.  **Violations** happen when a facility is found to be out of compliance with an environmental law, often by violating the terms of its permit issued under that law.  **Enforcement actions** happen when the regulating agency decides to initiate a \"case\" against a firm for its violation of an environmental law, either by considering some administrative penalty such as a fine or by taking the violator to court. Here we focus on penalties (in $)\n",
    "\n",
    "What's available for you to look at:\n",
    "\n",
    "**Hazardous Waste**:\n",
    "- _Inspections_ of waste handling and disposal facilities under RCRA\n",
    "- _Violations_ of RCRA rules\n",
    "- _Penalties_ levied by state agencies and the EPA for RCRA violations\n",
    "\n",
    "Here's where you can find definitions of terms used in the columns of RCRA data: \n",
    "https://echo.epa.gov/tools/data-downloads/rcrainfo-download-summary \n",
    "\n",
    "**Air**:\n",
    "- Both state and federal CAA compliance evaluations (facility _inspections_)\n",
    "- High priority _violations_ of the CAA\n",
    "- _Penalties_ levied by state agencies and the EPA for CAA violations\n",
    "\n",
    "Here's where you can find definitions of terms used in the columns of Clean Air Act data: \n",
    "https://echo.epa.gov/tools/data-downloads/icis-air-download-summary\n",
    "\n",
    "**Greenhouse Gas Reporting Program (GHGRP)**:\n",
    "- Self-reported emissions of carbon dioxide, methane, etc. in metric tons of CO2 equivalent (mtCO2e), 2010-2018. Only facilities emitting more than 25,000 mtCO2e in a year are required to report.\n",
    "\n",
    "Here's where you can find definitions of terms used in the columns of this data: https://echo.epa.gov/tools/data-downloads/air-emissions-download-summary and https://www.epa.gov/sites/production/files/2014-12/documents/ghgcalculatorhelp.pdf\n",
    "\n",
    "**Water** (National Pollutant Discharge Elimination System, or NPDES):\n",
    "- CWA _inspections_\n",
    "- CWA effluent _violations_, which is essentially when a facility discharges more water pollutants than it is permitted to.\n",
    "- CWA _penalties_ levied by both state agencies and the EPA\n",
    "\n",
    "Here's where you can find definitions of terms used in the columns of Clean Water Act data: https://echo.epa.gov/tools/data-downloads/icis-npdes-download-summary"
   ]
  },
  {
   "cell_type": "code",
   "execution_count": null,
   "metadata": {},
   "outputs": [],
   "source": [
    "%run ECHO-Sunrise/make_data_sets.py\n",
    "data_sets=make_data_sets()\n",
    "\n",
    "data_set_choices = []\n",
    "for k, v in data_sets.items():\n",
    "    if ( v.has_echo_flag( echo_data ) ):\n",
    "        data_set_choices.append( k )\n",
    "\n",
    "data_set_widget=widgets.Dropdown(\n",
    "    options=list(data_set_choices),\n",
    "    description='Data sets:',\n",
    "    disabled=False,\n",
    "    value='Greenhouse Gas Emissions'\n",
    ") \n",
    "display(data_set_widget)"
   ]
  },
  {
   "cell_type": "markdown",
   "metadata": {},
   "source": [
    "### 5. Chart trends\n",
    "In the first cell, we go and get all the data from the database. This may take a few minutes!\n",
    "In the second cell, we plot this district's data compared with MA as a whole."
   ]
  },
  {
   "cell_type": "code",
   "execution_count": null,
   "metadata": {},
   "outputs": [],
   "source": [
    "program = data_sets[ data_set_widget.value ] \n",
    "program_data = None\n",
    "district = float(select_region_widget.value.strip(\"Congressional District\"))\n",
    "\n",
    "district_program_data, bars, all_data = get_program_data(echo_data, program, program_data, district)\n",
    "print( \"The data has been retrieved.  Please proceed to the next cell.\")"
   ]
  },
  {
   "cell_type": "code",
   "execution_count": null,
   "metadata": {},
   "outputs": [],
   "source": [
    "%run utilities.py # Load the right style parameters\n",
    "plt.figure(figsize=(20,10))\n",
    "plt.bar(bars.index, bars[program.agg_col])\n",
    "plt.bar(bars.index, bars[program.agg_col + \" in this District\"])\n",
    "plt.title(program.name)\n",
    "plt.xlabel( 'Year' )\n",
    "plt.ylabel( program.unit )\n",
    "plt.legend([\"Statewide\", \"In %s\" %(select_region_widget.value)])\n",
    "plt.show()   \n",
    "\n",
    "bars.to_csv(\"trends-\"+program.name+\"-MA-\"+select_region_widget.value+\".csv\")"
   ]
  },
  {
   "cell_type": "markdown",
   "metadata": {},
   "source": [
    "### 6. Rank and map facilities in this district\n",
    "In the first cell below, we will show the 20 facilities with the most inspections, violations, emissions or penalties (depending on your selection above) in your selected district.\n",
    "In the second, we will map all facilities, with larger circles indicating more inspections, violations, emissions or penalties. Greyed-out circles are facilities with no recorded inspections, violations, emissions or penalties."
   ]
  },
  {
   "cell_type": "code",
   "execution_count": null,
   "metadata": {},
   "outputs": [],
   "source": [
    "district_program_data.to_csv(\"district_program_data-\"+program.name+\"-\"+select_region_widget.value+\".csv\")\n",
    "\n",
    "if (district_program_data.shape[0] > 0):\n",
    "    ranked = district_program_data.set_index(\"Index\")\n",
    "    q_num = 5 if ( len( ranked ) >= 5 ) else int( len( ranked ) / 2 )\n",
    "    ranked['quantile'] = pd.qcut(ranked[program.agg_col], 5, labels=False, duplicates=\"drop\")\n",
    "    ranked = ranked.sort_values(by=program.agg_col, ascending=False)\n",
    "    ranked.to_csv(\"facilities_ranked-\"+program.name+\".csv\")\n",
    "    print( \"{} facilities have been ranked.\".format( len( ranked )))\n",
    "\n",
    "    time = '2018' if (program.name == \"Greenhouse Gas Emissions\") else '2020'\n",
    "    sns.set(style='whitegrid')\n",
    "    fig, ax = plt.subplots(figsize=(20,10))\n",
    "    unit = ranked[0:19].index # First 20 rows \n",
    "    values = ranked[0:19][program.agg_col] # First 20 rows\n",
    "    g = sns.barplot(values, unit, order=list(unit), orient=\"h\") \n",
    "    g.set_title('20 facilities with the most %s in %s from 2010-%s' %(program.name, select_region_widget.value, time))\n",
    "    ax.set_xlabel(program.unit)\n",
    "    ax.set_ylabel(\"Facility\")\n",
    "    ax.set_yticklabels(ranked[0:19][\"FAC_NAME\"])\n",
    "    g\n",
    "else:\n",
    "    print(\"There are no reported emissions/violations/etc. to rank here!\")"
   ]
  },
  {
   "cell_type": "code",
   "execution_count": null,
   "metadata": {},
   "outputs": [],
   "source": [
    "if (district_program_data.shape[0] > 0):\n",
    "    mp = mapper_area(ranked, geo_json_data, program.agg_col, program.unit)\n",
    "else:\n",
    "    mp = print(\"There are no reported emissions/violations/etc. to map here!\")\n",
    "mp"
   ]
  },
  {
   "cell_type": "markdown",
   "metadata": {},
   "source": [
    "### 7. Accessing your files\n",
    "While you ran this notebook, we automatically exported spreadsheet versions of the data. Click on the 'Files' tab in the menu on the left-hand side of the notebook (it looks like a folder). You may have to hit 'Refresh' if you don't see your file. Then, you can click on the ... next to your file and choose \"Download\". The CSV spreadsheet will download to wherever your browser usually saves files (e.g. Downloads folder)"
   ]
  }
 ],
 "metadata": {
  "kernelspec": {
   "display_name": "Python 3",
   "language": "python",
   "name": "python3"
  },
  "language_info": {
   "codemirror_mode": {
    "name": "ipython",
    "version": 3
   },
   "file_extension": ".py",
   "mimetype": "text/x-python",
   "name": "python",
   "nbconvert_exporter": "python",
   "pygments_lexer": "ipython3",
   "version": "3.7.6"
  }
 },
 "nbformat": 4,
 "nbformat_minor": 2
}
